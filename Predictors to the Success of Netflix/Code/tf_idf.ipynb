{
    "metadata": {
        "kernelspec": {
            "name": "python3",
            "display_name": "Python 3 (ipykernel)",
            "language": "python"
        }
    },
    "nbformat": 4,
    "nbformat_minor": 5,
    "cells": [
        {
            "cell_type": "code",
            "execution_count": 3,
            "metadata": {},
            "outputs": [
                {
                    "data": {
                        "text/html": "\u003cdiv\u003e\n\u003cstyle scoped\u003e\n    .dataframe tbody tr th:only-of-type {\n        vertical-align: middle;\n    }\n\n    .dataframe tbody tr th {\n        vertical-align: top;\n    }\n\n    .dataframe thead th {\n        text-align: right;\n    }\n\u003c/style\u003e\n\u003ctable border=\"1\" class=\"dataframe\"\u003e\n  \u003cthead\u003e\n    \u003ctr style=\"text-align: right;\"\u003e\n      \u003cth\u003e\u003c/th\u003e\n      \u003cth\u003eid\u003c/th\u003e\n      \u003cth\u003etitle\u003c/th\u003e\n      \u003cth\u003edescription\u003c/th\u003e\n      \u003cth\u003etokens\u003c/th\u003e\n      \u003cth\u003eruntime\u003c/th\u003e\n      \u003cth\u003egenres\u003c/th\u003e\n      \u003cth\u003eproduction_countries\u003c/th\u003e\n      \u003cth\u003eimdb_id\u003c/th\u003e\n      \u003cth\u003eimdb_score\u003c/th\u003e\n      \u003cth\u003eimdb_votes\u003c/th\u003e\n      \u003cth\u003etmdb_popularity\u003c/th\u003e\n      \u003cth\u003etmdb_score\u003c/th\u003e\n      \u003cth\u003eactor\u003c/th\u003e\n      \u003cth\u003eactor_id\u003c/th\u003e\n      \u003cth\u003edirector\u003c/th\u003e\n      \u003cth\u003edirector_id\u003c/th\u003e\n    \u003c/tr\u003e\n  \u003c/thead\u003e\n  \u003ctbody\u003e\n    \u003ctr\u003e\n      \u003cth\u003e0\u003c/th\u003e\n      \u003ctd\u003ets300399\u003c/td\u003e\n      \u003ctd\u003eFive Came Back: The Reference Films\u003c/td\u003e\n      \u003ctd\u003ecollect includ world war ii era propaganda fil...\u003c/td\u003e\n      \u003ctd\u003e['collect', 'includ', 'world', 'war', 'ii', 'e...\u003c/td\u003e\n      \u003ctd\u003e51\u003c/td\u003e\n      \u003ctd\u003e['documentation']\u003c/td\u003e\n      \u003ctd\u003e['US']\u003c/td\u003e\n      \u003ctd\u003eNaN\u003c/td\u003e\n      \u003ctd\u003e6.6\u003c/td\u003e\n      \u003ctd\u003e2.0\u003c/td\u003e\n      \u003ctd\u003e0.600\u003c/td\u003e\n      \u003ctd\u003e6.900\u003c/td\u003e\n      \u003ctd\u003e{}\u003c/td\u003e\n      \u003ctd\u003e{}\u003c/td\u003e\n      \u003ctd\u003e{}\u003c/td\u003e\n      \u003ctd\u003e{}\u003c/td\u003e\n    \u003c/tr\u003e\n    \u003ctr\u003e\n      \u003cth\u003e1\u003c/th\u003e\n      \u003ctd\u003etm84618\u003c/td\u003e\n      \u003ctd\u003eTaxi Driver\u003c/td\u003e\n      \u003ctd\u003emental unstabl vietnam war veteran work night ...\u003c/td\u003e\n      \u003ctd\u003e['mental', 'unstabl', 'vietnam', 'war', 'veter...\u003c/td\u003e\n      \u003ctd\u003e114\u003c/td\u003e\n      \u003ctd\u003e['drama', 'crime']\u003c/td\u003e\n      \u003ctd\u003e['US']\u003c/td\u003e\n      \u003ctd\u003ett0075314\u003c/td\u003e\n      \u003ctd\u003e8.2\u003c/td\u003e\n      \u003ctd\u003e808582.0\u003c/td\u003e\n      \u003ctd\u003e40.965\u003c/td\u003e\n      \u003ctd\u003e8.179\u003c/td\u003e\n      \u003ctd\u003e{'Victor Argo', 'Bill Minkin', 'Harry Northup'...\u003c/td\u003e\n      \u003ctd\u003e{32267, 29068, 466061, 17421, 43791, 43279, 43...\u003c/td\u003e\n      \u003ctd\u003e{'Martin Scorsese'}\u003c/td\u003e\n      \u003ctd\u003e{3308}\u003c/td\u003e\n    \u003c/tr\u003e\n    \u003ctr\u003e\n      \u003cth\u003e2\u003c/th\u003e\n      \u003ctd\u003etm154986\u003c/td\u003e\n      \u003ctd\u003eDeliverance\u003c/td\u003e\n      \u003ctd\u003eintent see cahulawasse river turn one huge lak...\u003c/td\u003e\n      \u003ctd\u003e['intent', 'see', 'cahulawasse', 'river', 'tur...\u003c/td\u003e\n      \u003ctd\u003e109\u003c/td\u003e\n      \u003ctd\u003e['drama', 'action', 'thriller', 'european']\u003c/td\u003e\n      \u003ctd\u003e['US']\u003c/td\u003e\n      \u003ctd\u003ett0068473\u003c/td\u003e\n      \u003ctd\u003e7.7\u003c/td\u003e\n      \u003ctd\u003e107673.0\u003c/td\u003e\n      \u003ctd\u003e10.010\u003c/td\u003e\n      \u003ctd\u003e7.300\u003c/td\u003e\n      \u003ctd\u003e{'Ned Beatty', 'Macon McCalman', 'Pete Ware', ...\u003c/td\u003e\n      \u003ctd\u003e{197405, 100262, 53804, 24509, 24510, 84031, 8...\u003c/td\u003e\n      \u003ctd\u003e{'John Boorman'}\u003c/td\u003e\n      \u003ctd\u003e{17727}\u003c/td\u003e\n    \u003c/tr\u003e\n    \u003ctr\u003e\n      \u003cth\u003e3\u003c/th\u003e\n      \u003ctd\u003etm127384\u003c/td\u003e\n      \u003ctd\u003eMonty Python and the Holy Grail\u003c/td\u003e\n      \u003ctd\u003eking arthur accompani squir recruit knight rou...\u003c/td\u003e\n      \u003ctd\u003e['king', 'arthur', 'accompani', 'squir', 'recr...\u003c/td\u003e\n      \u003ctd\u003e91\u003c/td\u003e\n      \u003ctd\u003e['fantasy', 'action', 'comedy']\u003c/td\u003e\n      \u003ctd\u003e['GB']\u003c/td\u003e\n      \u003ctd\u003ett0071853\u003c/td\u003e\n      \u003ctd\u003e8.2\u003c/td\u003e\n      \u003ctd\u003e534486.0\u003c/td\u003e\n      \u003ctd\u003e15.461\u003c/td\u003e\n      \u003ctd\u003e7.811\u003c/td\u003e\n      \u003ctd\u003e{'Tom Raeburn', 'Vivienne MacDonald', 'Judy La...\u003c/td\u003e\n      \u003ctd\u003e{8327, 1275018, 1549, 919694, 90024, 156072, 4...\u003c/td\u003e\n      \u003ctd\u003e{'Terry Jones', 'Terry Gilliam'}\u003c/td\u003e\n      \u003ctd\u003e{11473, 11475}\u003c/td\u003e\n    \u003c/tr\u003e\n    \u003ctr\u003e\n      \u003cth\u003e4\u003c/th\u003e\n      \u003ctd\u003etm120801\u003c/td\u003e\n      \u003ctd\u003eThe Dirty Dozen\u003c/td\u003e\n      \u003ctd\u003eamerican militari prison world war ii order in...\u003c/td\u003e\n      \u003ctd\u003e['american', 'militari', 'prison', 'world', 'w...\u003c/td\u003e\n      \u003ctd\u003e150\u003c/td\u003e\n      \u003ctd\u003e['war', 'action']\u003c/td\u003e\n      \u003ctd\u003e['GB', 'US']\u003c/td\u003e\n      \u003ctd\u003ett0061578\u003c/td\u003e\n      \u003ctd\u003e7.7\u003c/td\u003e\n      \u003ctd\u003e72662.0\u003c/td\u003e\n      \u003ctd\u003e20.398\u003c/td\u003e\n      \u003ctd\u003e7.600\u003c/td\u003e\n      \u003ctd\u003e{'Robert Phillips', 'Hal Galili', 'Hedger Wall...\u003c/td\u003e\n      \u003ctd\u003e{35200, 35201, 35202, 35203, 35204, 21244, 352...\u003c/td\u003e\n      \u003ctd\u003e{'Robert Aldrich'}\u003c/td\u003e\n      \u003ctd\u003e{1063}\u003c/td\u003e\n    \u003c/tr\u003e\n  \u003c/tbody\u003e\n\u003c/table\u003e\n\u003c/div\u003e",
                        "text/plain": "         id                                title  \\\n0  ts300399  Five Came Back: The Reference Films   \n1   tm84618                          Taxi Driver   \n2  tm154986                          Deliverance   \n3  tm127384      Monty Python and the Holy Grail   \n4  tm120801                      The Dirty Dozen   \n\n                                         description  \\\n0  collect includ world war ii era propaganda fil...   \n1  mental unstabl vietnam war veteran work night ...   \n2  intent see cahulawasse river turn one huge lak...   \n3  king arthur accompani squir recruit knight rou...   \n4  american militari prison world war ii order in...   \n\n                                              tokens  runtime  \\\n0  ['collect', 'includ', 'world', 'war', 'ii', 'e...       51   \n1  ['mental', 'unstabl', 'vietnam', 'war', 'veter...      114   \n2  ['intent', 'see', 'cahulawasse', 'river', 'tur...      109   \n3  ['king', 'arthur', 'accompani', 'squir', 'recr...       91   \n4  ['american', 'militari', 'prison', 'world', 'w...      150   \n\n                                        genres production_countries  \\\n0                            ['documentation']               ['US']   \n1                           ['drama', 'crime']               ['US']   \n2  ['drama', 'action', 'thriller', 'european']               ['US']   \n3              ['fantasy', 'action', 'comedy']               ['GB']   \n4                            ['war', 'action']         ['GB', 'US']   \n\n     imdb_id  imdb_score  imdb_votes  tmdb_popularity  tmdb_score  \\\n0        NaN         6.6         2.0            0.600       6.900   \n1  tt0075314         8.2    808582.0           40.965       8.179   \n2  tt0068473         7.7    107673.0           10.010       7.300   \n3  tt0071853         8.2    534486.0           15.461       7.811   \n4  tt0061578         7.7     72662.0           20.398       7.600   \n\n                                               actor  \\\n0                                                 {}   \n1  {'Victor Argo', 'Bill Minkin', 'Harry Northup'...   \n2  {'Ned Beatty', 'Macon McCalman', 'Pete Ware', ...   \n3  {'Tom Raeburn', 'Vivienne MacDonald', 'Judy La...   \n4  {'Robert Phillips', 'Hal Galili', 'Hedger Wall...   \n\n                                            actor_id  \\\n0                                                 {}   \n1  {32267, 29068, 466061, 17421, 43791, 43279, 43...   \n2  {197405, 100262, 53804, 24509, 24510, 84031, 8...   \n3  {8327, 1275018, 1549, 919694, 90024, 156072, 4...   \n4  {35200, 35201, 35202, 35203, 35204, 21244, 352...   \n\n                           director     director_id  \n0                                {}              {}  \n1               {'Martin Scorsese'}          {3308}  \n2                  {'John Boorman'}         {17727}  \n3  {'Terry Jones', 'Terry Gilliam'}  {11473, 11475}  \n4                {'Robert Aldrich'}          {1063}  "
                    },
                    "execution_count": 3,
                    "metadata": {},
                    "output_type": "execute_result"
                }
            ],
            "source": [
                "from sklearn.feature_extraction.text import TfidfVectorizer\n",
                "import pandas as pd\n",
                "\n",
                "# initialisation of some stuff\n",
                "top_5_genre = ['war', 'western', 'thriller', 'scifi', 'crime']\n",
                "df = pd.read_csv('titles_mod2.csv')\n",
                "vectoriser  = TfidfVectorizer()\n",
                "\n",
                "df.head()"
            ]
        },
        {
            "cell_type": "code",
            "execution_count": 20,
            "metadata": {},
            "outputs": [
                {
                    "name": "stdout",
                    "output_type": "stream",
                    "text": "Top 5 key words for war: [('battl', 3), ('space', 2), ('forc', 2), ('rest', 2), ('empir', 2)]\nTop 5 key words for western: [('arrog', 1), ('bandit', 1), ('four', 1), ('system', 1), ('solar', 1)]\nTop 5 key words for thriller: [('prison', 6), ('daughter', 6), ('father', 5), ('killer', 5), ('vampir', 5)]\nTop 5 key words for scifi: [('magic', 6), ('vampir', 6), ('robot', 6), ('school', 5), ('dragon', 5)]\nTop 5 key words for crime: [('killer', 5), ('death', 5), ('prison', 5), ('job', 5), ('father', 4)]\n"
                }
            ],
            "source": [
                "\n",
                "def get_key_word_list(genre):\n",
                "    genre_df = df.loc[df['genres'].str.contains(genre)]\n",
                "    corpus = []\n",
                "    for i in range(0, len(genre_df)):\n",
                "        if not pd.isna(genre_df.iloc[i]['description']):\n",
                "            corpus.append(genre_df.iloc[i]['description'])\n",
                "\n",
                "    tf_idf_vector = vectoriser.fit_transform(corpus)\n",
                "    tf_idf_array = tf_idf_vector.toarray()\n",
                "    words = vectoriser.get_feature_names_out() \n",
                "\n",
                "    df_tf_idf = pd.DataFrame(tf_idf_array, columns = words)\n",
                "    key_words_dict = dict()\n",
                "    for i in range(0, len(df_tf_idf)):\n",
                "        descript_curr = df_tf_idf.iloc[i]\n",
                "        non_zero_words = descript_curr[descript_curr \u003e 0]\n",
                "        non_zero_words = non_zero_words.sort_values(ascending = False)\n",
                "        top_3_words = non_zero_words[0:3]\n",
                "        for word in top_3_words.keys():\n",
                "            if word not in key_words_dict:\n",
                "                key_words_dict[word] = 1\n",
                "            else:\n",
                "             key_words_dict[word] = key_words_dict[word] + 1\n",
                "\n",
                "    key_words_list = list(key_words_dict.items())\n",
                "    key_words_list.sort(key = lambda x:x[1], reverse = True)\n",
                "    return key_words_list[0:5]\n",
                "\n",
                "# admittedly i could make this part of the function, but oh well\n",
                "war_list = get_key_word_list('war')\n",
                "print(f'Top 5 key words for war: {war_list}')\n",
                "western_list = get_key_word_list('western')\n",
                "print(f'Top 5 key words for western: {western_list}')\n",
                "thriller_list = get_key_word_list('thriller')\n",
                "print(f'Top 5 key words for thriller: {thriller_list}')\n",
                "scifi_list = get_key_word_list('scifi')\n",
                "print(f'Top 5 key words for scifi: {scifi_list}')\n",
                "crime_list = get_key_word_list('crime')\n",
                "print(f'Top 5 key words for crime: {crime_list}')"
            ]
        },
        {
            "cell_type": "code",
            "execution_count": 0,
            "metadata": {},
            "outputs": [],
            "source": [
                ""
            ]
        }
    ]
}
