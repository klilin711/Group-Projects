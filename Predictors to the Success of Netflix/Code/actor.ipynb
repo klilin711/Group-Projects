{
    "metadata": {
        "kernelspec": {
            "name": "python3",
            "display_name": "Python 3 (ipykernel)",
            "language": "python"
        }
    },
    "nbformat": 4,
    "nbformat_minor": 2,
    "cells": [
        {
            "cell_type": "code",
            "execution_count": 1,
            "metadata": {},
            "outputs": [],
            "source": [
                "import pandas as pd\n",
                "import numpy as np\n",
                "import seaborn as sns\n",
                "from matplotlib import pyplot as plt\n",
                "from collections import defaultdict\n",
                "from sklearn.model_selection import train_test_split\n",
                "from sklearn.linear_model import LogisticRegression\n",
                "from sklearn.metrics import accuracy_score, classification_report\n",
                "from sklearn.preprocessing import OneHotEncoder"
            ]
        },
        {
            "cell_type": "code",
            "execution_count": 2,
            "metadata": {},
            "outputs": [],
            "source": [
                "df = pd.read_csv('titles_mod2.csv')\n",
                "\n",
                "movie_actors = defaultdict(list) # Dictionary that stores the actors in each movie as a list\n",
                "actors = defaultdict(list) # Dictionary that stores the imdb scores for an actor's appearances\n",
                "\n",
                "for row in df.index: # Get actor's name, then add the imdb score of that show to actor's list\n",
                "    row_actors = df['actor_id'][row].strip('[]')\n",
                "    for row_actor in row_actors.split(','):\n",
                "        actor_id = row_actor.strip(\" '\").strip('\"')\n",
                "        if actor_id != '': # Remove \"blank\" actors\n",
                "            movie_actors[df['id'][row]].append(actor_id)\n",
                "            actors[actor_id].append(df['imdb_score'][row])\n",
                "\n",
                "avg_actors = defaultdict(float)\n",
                "\n",
                "for actor in actors.keys():\n",
                "    avg_actors[actor] = (sum(actors[actor]) / len(actors[actor])) # Average out the scores\n",
                "\n",
                "avg_movies = defaultdict(float) # Dictionary to find the average \"actor score\" based on the average\n",
                "                                # avg_imdb score of all actors in the movie\n",
                "\n",
                "indexes = []\n",
                "\n",
                "for movie in movie_actors.keys():\n",
                "    scoreSum = 0\n",
                "    actorAppearances = 0\n",
                "    for actor in movie_actors[movie]:\n",
                "        scoreSum += avg_actors[actor]\n",
                "        actorAppearances += len(actors[actor])\n",
                "\n",
                "    avg_movies[movie] = scoreSum / len(movie_actors[movie])\n",
                "\n",
                "    if actorAppearances / len(movie_actors[movie]) \u003e 5: # Keep track of the movies that have a high\n",
                "                                                        # high enough appearance rate. Pick 5 as\n",
                "                                                        # we want to look at actors with a career\n",
                "        indexes.append(movie)\n",
                "\n",
                "\n",
                "movie_avg_actors = pd.Series(avg_movies)\n",
                "tmdb_scores = pd.Series(df['imdb_score'])"
            ]
        },
        {
            "cell_type": "code",
            "execution_count": 3,
            "metadata": {},
            "outputs": [
                {
                    "name": "stdout",
                    "output_type": "stream",
                    "text": "0.13651685393258428\n"
                },
                {
                    "data": {
                        "text/html": "\u003cdiv\u003e\n\u003cstyle scoped\u003e\n    .dataframe tbody tr th:only-of-type {\n        vertical-align: middle;\n    }\n\n    .dataframe tbody tr th {\n        vertical-align: top;\n    }\n\n    .dataframe thead th {\n        text-align: right;\n    }\n\u003c/style\u003e\n\u003ctable border=\"1\" class=\"dataframe\"\u003e\n  \u003cthead\u003e\n    \u003ctr style=\"text-align: right;\"\u003e\n      \u003cth\u003e\u003c/th\u003e\n      \u003cth\u003eimdb_score\u003c/th\u003e\n      \u003cth\u003eactor_score\u003c/th\u003e\n    \u003c/tr\u003e\n  \u003c/thead\u003e\n  \u003ctbody\u003e\n    \u003ctr\u003e\n      \u003cth\u003eimdb_score\u003c/th\u003e\n      \u003ctd\u003e1.000000\u003c/td\u003e\n      \u003ctd\u003e0.443248\u003c/td\u003e\n    \u003c/tr\u003e\n    \u003ctr\u003e\n      \u003cth\u003eactor_score\u003c/th\u003e\n      \u003ctd\u003e0.443248\u003c/td\u003e\n      \u003ctd\u003e1.000000\u003c/td\u003e\n    \u003c/tr\u003e\n  \u003c/tbody\u003e\n\u003c/table\u003e\n\u003c/div\u003e",
                        "text/plain": "             imdb_score  actor_score\nimdb_score     1.000000     0.443248\nactor_score    0.443248     1.000000"
                    },
                    "execution_count": 3,
                    "metadata": {},
                    "output_type": "execute_result"
                }
            ],
            "source": [
                "scores = df[['id','imdb_score']].copy()\n",
                "scores = scores.set_index('id')\n",
                "actor_movie_scores = pd.concat([movie_avg_actors, scores], axis=1)\n",
                "actor_movie_scores = actor_movie_scores.filter(indexes, axis=0)\n",
                "actor_movie_scores.index.name = 'id'\n",
                "actor_movie_scores.columns = ['actor_score', 'imdb_score']\n",
                "print(len(actor_movie_scores.index) / 5340)\n",
                "actor_movie_scores[['imdb_score', 'actor_score']].corr(method='pearson')\n",
                ""
            ]
        },
        {
            "cell_type": "code",
            "execution_count": 4,
            "metadata": {},
            "outputs": [
                {
                    "name": "stdout",
                    "output_type": "stream",
                    "text": "413\n"
                },
                {
                    "data": {
                        "text/html": "\u003cdiv\u003e\n\u003cstyle scoped\u003e\n    .dataframe tbody tr th:only-of-type {\n        vertical-align: middle;\n    }\n\n    .dataframe tbody tr th {\n        vertical-align: top;\n    }\n\n    .dataframe thead th {\n        text-align: right;\n    }\n\u003c/style\u003e\n\u003ctable border=\"1\" class=\"dataframe\"\u003e\n  \u003cthead\u003e\n    \u003ctr style=\"text-align: right;\"\u003e\n      \u003cth\u003e\u003c/th\u003e\n      \u003cth\u003eimdb_score\u003c/th\u003e\n      \u003cth\u003edirector_score\u003c/th\u003e\n    \u003c/tr\u003e\n  \u003c/thead\u003e\n  \u003ctbody\u003e\n    \u003ctr\u003e\n      \u003cth\u003eimdb_score\u003c/th\u003e\n      \u003ctd\u003e1.00000\u003c/td\u003e\n      \u003ctd\u003e0.93465\u003c/td\u003e\n    \u003c/tr\u003e\n    \u003ctr\u003e\n      \u003cth\u003edirector_score\u003c/th\u003e\n      \u003ctd\u003e0.93465\u003c/td\u003e\n      \u003ctd\u003e1.00000\u003c/td\u003e\n    \u003c/tr\u003e\n  \u003c/tbody\u003e\n\u003c/table\u003e\n\u003c/div\u003e",
                        "text/plain": "                imdb_score  director_score\nimdb_score         1.00000         0.93465\ndirector_score     0.93465         1.00000"
                    },
                    "execution_count": 4,
                    "metadata": {},
                    "output_type": "execute_result"
                }
            ],
            "source": [
                "movie_directors = defaultdict(list) # Dictionary that stores the directors in each movie as a list\n",
                "directors = defaultdict(list) # Dictionary that stores the imdb scores for an director's appearances\n",
                "\n",
                "for row in df.index: # Get director's name, then add the imdb score of that show to director's list\n",
                "    row_directors = df['director_id'][row].strip('[]{}')\n",
                "    for row_director in row_directors.split(','):\n",
                "        director_id = row_director.strip(\" '\").strip('\"')\n",
                "        if director_id != '': # Remove \"blank\" directors\n",
                "            movie_directors[df['id'][row]].append(director_id)\n",
                "            directors[director_id].append(df['imdb_score'][row])\n",
                "\n",
                "avg_directors = defaultdict(float)\n",
                "\n",
                "for director in directors.keys():\n",
                "    avg_directors[director] = (sum(directors[director]) / len(directors[director])) # Average out the scores\n",
                "\n",
                "avg_movies = defaultdict(float) # Dictionary to find the average \"director score\" based on the average\n",
                "                                # avg_imdb score of all directors in the movie\n",
                "\n",
                "dir_indexes = []\n",
                "\n",
                "for movie in movie_directors.keys():\n",
                "    scoreSum = 0\n",
                "    for director in movie_directors[movie]:\n",
                "        scoreSum += avg_directors[director]\n",
                "    \n",
                "    avg_movies[movie] = scoreSum / len(movie_directors[movie])\n",
                "\n",
                "    if len(movie_directors[movie]) \u003e= 2: # Keep track of the movies that have a high\n",
                "                                        # high enough appearance rate. Pick 2 as\n",
                "                                        # we want to look at directors with more data, but less than\n",
                "                                        # actors as it's rarer for a director to direct multiple movies\n",
                "        dir_indexes.append(movie)\n",
                "\n",
                "movie_avg_directors = pd.Series(avg_movies)\n",
                "tmdb_scores = pd.Series(df['imdb_score'])\n",
                "\n",
                "dir_scores = df[['id','imdb_score']].copy()\n",
                "dir_scores = dir_scores.set_index('id')\n",
                "director_movie_scores = pd.concat([movie_avg_directors, dir_scores], axis=1)\n",
                "director_movie_scores = director_movie_scores.filter(dir_indexes, axis=0)\n",
                "director_movie_scores.index.name = 'id'\n",
                "director_movie_scores.columns = ['director_score', 'imdb_score']\n",
                "print(len(director_movie_scores.index))\n",
                "director_movie_scores[['imdb_score', 'director_score']].corr(method='pearson')\n",
                ""
            ]
        },
        {
            "cell_type": "code",
            "execution_count": 31,
            "metadata": {},
            "outputs": [
                {
                    "data": {
                        "text/html": "\u003cdiv\u003e\n\u003cstyle scoped\u003e\n    .dataframe tbody tr th:only-of-type {\n        vertical-align: middle;\n    }\n\n    .dataframe tbody tr th {\n        vertical-align: top;\n    }\n\n    .dataframe thead th {\n        text-align: right;\n    }\n\u003c/style\u003e\n\u003ctable border=\"1\" class=\"dataframe\"\u003e\n  \u003cthead\u003e\n    \u003ctr style=\"text-align: right;\"\u003e\n      \u003cth\u003e\u003c/th\u003e\n      \u003cth\u003eruntime\u003c/th\u003e\n      \u003cth\u003eimdb_score\u003c/th\u003e\n      \u003cth\u003etmdb_score\u003c/th\u003e\n    \u003c/tr\u003e\n  \u003c/thead\u003e\n  \u003ctbody\u003e\n    \u003ctr\u003e\n      \u003cth\u003e0\u003c/th\u003e\n      \u003ctd\u003e51\u003c/td\u003e\n      \u003ctd\u003e6.6\u003c/td\u003e\n      \u003ctd\u003e6.900000\u003c/td\u003e\n    \u003c/tr\u003e\n    \u003ctr\u003e\n      \u003cth\u003e1\u003c/th\u003e\n      \u003ctd\u003e114\u003c/td\u003e\n      \u003ctd\u003e8.2\u003c/td\u003e\n      \u003ctd\u003e8.179000\u003c/td\u003e\n    \u003c/tr\u003e\n    \u003ctr\u003e\n      \u003cth\u003e2\u003c/th\u003e\n      \u003ctd\u003e109\u003c/td\u003e\n      \u003ctd\u003e7.7\u003c/td\u003e\n      \u003ctd\u003e7.300000\u003c/td\u003e\n    \u003c/tr\u003e\n    \u003ctr\u003e\n      \u003cth\u003e3\u003c/th\u003e\n      \u003ctd\u003e91\u003c/td\u003e\n      \u003ctd\u003e8.2\u003c/td\u003e\n      \u003ctd\u003e7.811000\u003c/td\u003e\n    \u003c/tr\u003e\n    \u003ctr\u003e\n      \u003cth\u003e4\u003c/th\u003e\n      \u003ctd\u003e150\u003c/td\u003e\n      \u003ctd\u003e7.7\u003c/td\u003e\n      \u003ctd\u003e7.600000\u003c/td\u003e\n    \u003c/tr\u003e\n    \u003ctr\u003e\n      \u003cth\u003e...\u003c/th\u003e\n      \u003ctd\u003e...\u003c/td\u003e\n      \u003ctd\u003e...\u003c/td\u003e\n      \u003ctd\u003e...\u003c/td\u003e\n    \u003c/tr\u003e\n    \u003ctr\u003e\n      \u003cth\u003e5845\u003c/th\u003e\n      \u003ctd\u003e100\u003c/td\u003e\n      \u003ctd\u003e6.8\u003c/td\u003e\n      \u003ctd\u003e6.982444\u003c/td\u003e\n    \u003c/tr\u003e\n    \u003ctr\u003e\n      \u003cth\u003e5846\u003c/th\u003e\n      \u003ctd\u003e134\u003c/td\u003e\n      \u003ctd\u003e7.7\u003c/td\u003e\n      \u003ctd\u003e7.498945\u003c/td\u003e\n    \u003c/tr\u003e\n    \u003ctr\u003e\n      \u003cth\u003e5847\u003c/th\u003e\n      \u003ctd\u003e90\u003c/td\u003e\n      \u003ctd\u003e3.8\u003c/td\u003e\n      \u003ctd\u003e6.300000\u003c/td\u003e\n    \u003c/tr\u003e\n    \u003ctr\u003e\n      \u003cth\u003e5848\u003c/th\u003e\n      \u003ctd\u003e37\u003c/td\u003e\n      \u003ctd\u003e10.0\u003c/td\u003e\n      \u003ctd\u003e10.000000\u003c/td\u003e\n    \u003c/tr\u003e\n    \u003ctr\u003e\n      \u003cth\u003e5849\u003c/th\u003e\n      \u003ctd\u003e7\u003c/td\u003e\n      \u003ctd\u003e7.8\u003c/td\u003e\n      \u003ctd\u003e10.000000\u003c/td\u003e\n    \u003c/tr\u003e\n  \u003c/tbody\u003e\n\u003c/table\u003e\n\u003cp\u003e5850 rows × 3 columns\u003c/p\u003e\n\u003c/div\u003e",
                        "text/plain": "      runtime  imdb_score  tmdb_score\n0          51         6.6    6.900000\n1         114         8.2    8.179000\n2         109         7.7    7.300000\n3          91         8.2    7.811000\n4         150         7.7    7.600000\n...       ...         ...         ...\n5845      100         6.8    6.982444\n5846      134         7.7    7.498945\n5847       90         3.8    6.300000\n5848       37        10.0   10.000000\n5849        7         7.8   10.000000\n\n[5850 rows x 3 columns]"
                    },
                    "execution_count": 31,
                    "metadata": {},
                    "output_type": "execute_result"
                }
            ],
            "source": [
                "import pandas as pd\n",
                "from sklearn.cluster import KMeans\n",
                "from sklearn.preprocessing import StandardScaler\n",
                "\n",
                "# Load your dataset (replace 'your_dataset.csv' with your dataset path)\n",
                "df = pd.read_csv('titles_mod2.csv')\n",
                "\n",
                "# Check for rows with empty data in all columns\n",
                "empty_rows = df[df.apply(lambda row: all(pd.isna(row) | (row == '[]')), axis=1)]\n",
                "\n",
                "# Remove rows with empty data\n",
                "df_cleaned = df.drop(empty_rows.index)\n",
                "\n",
                "features = ['runtime', 'imdb_score', 'tmdb_score']\n",
                "\n",
                "# Extract the selected features\n",
                "X = df[features]\n",
                "X"
            ]
        },
        {
            "cell_type": "code",
            "execution_count": 30,
            "metadata": {},
            "outputs": [
                {
                    "name": "stdout",
                    "output_type": "stream",
                    "text": "      runtime  imdb_score  tmdb_score\n0  112.477332    6.861442    6.939382\n1   86.855769    5.076723    5.556299\n2   41.527204    7.188683    7.572387\n"
                }
            ],
            "source": [
                "# Standardize the features (mean=0, variance=1)\n",
                "scaler = StandardScaler()\n",
                "X_scaled = scaler.fit_transform(X)\n",
                "\n",
                "# Choose the number of clusters (K)\n",
                "k = 3  # Replace with your desired number of clusters\n",
                "\n",
                "# Apply K-Means clustering\n",
                "kmeans = KMeans(n_clusters=k, n_init=10) \n",
                "df['cluster'] = kmeans.fit_predict(X_scaled)\n",
                "\n",
                "# Analyze and interpret the clusters\n",
                "cluster_centers = scaler.inverse_transform(kmeans.cluster_centers_)\n",
                "df_cluster_centers = pd.DataFrame(cluster_centers, columns=features)\n",
                "print(df_cluster_centers)"
            ]
        }
    ]
}
